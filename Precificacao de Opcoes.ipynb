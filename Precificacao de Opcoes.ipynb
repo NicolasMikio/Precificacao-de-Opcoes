{
 "cells": [
  {
   "cell_type": "markdown",
   "metadata": {},
   "source": [
    "# Calculadora de Opções"
   ]
  },
  {
   "cell_type": "markdown",
   "metadata": {},
   "source": [
    "Para usar a calculadora, é só clicar me \"run all\" e ir preenchendo as caixas de texto que aparecerem\n",
    "\n",
    "A calculadora possui os mecanismos descritos na célula de funções, sendo os principais os seguintes recursos:\n",
    "- Simulação de Monte Carlo (mc_normal) para simular a série de preço de um ativo.\n",
    "- Precificação de Opção Europeia (euro_vanilla_call) para precificar uma Call.\n",
    "- Precificação de Opção Europeia (euro_vanilla_put) para precificar uma Put.\n",
    "- Precificação de Call ou Put de uma Opção Exótica (exotica) em que o preço de exercício é calculado pela média dos preços dos últimos 5 dias.\n",
    "- Precificação de Opção Binária (binaria)\n",
    "\n",
    "Obs: A calculadora importa os dados através da API do Yahoo Finance e do Banco Central através de algumas funções. A conexão com a internet é necessária."
   ]
  },
  {
   "cell_type": "markdown",
   "metadata": {},
   "source": [
    "### Importar Libs"
   ]
  },
  {
   "cell_type": "code",
   "execution_count": 1,
   "metadata": {},
   "outputs": [],
   "source": [
    "import yfinance as yf\n",
    "import math\n",
    "import matplotlib.pyplot as plt\n",
    "import numpy as np\n",
    "import opcoes as op\n",
    "from time import time\n",
    "import pandas as pd\n",
    "from datetime import date\n",
    "import scipy.stats\n",
    "plt.style.use('dark_background')\n",
    "%matplotlib inline\n",
    "%load_ext autoreload\n",
    "%autoreload 2"
   ]
  },
  {
   "cell_type": "markdown",
   "metadata": {},
   "source": [
    "### Funções"
   ]
  },
  {
   "cell_type": "code",
   "execution_count": 2,
   "metadata": {},
   "outputs": [
    {
     "name": "stdout",
     "output_type": "stream",
     "text": [
      "Qual ativo analisar? Ex. digite ITSA4.SA  ITSA4.SA\n",
      "Qual a data mais antiga? formato aaaa-mm-dd (ex: 2015-01-01)  2015-01-01\n",
      "[*********************100%***********************]  1 of 1 completed\n"
     ]
    },
    {
     "data": {
      "text/html": [
       "<div>\n",
       "<style scoped>\n",
       "    .dataframe tbody tr th:only-of-type {\n",
       "        vertical-align: middle;\n",
       "    }\n",
       "\n",
       "    .dataframe tbody tr th {\n",
       "        vertical-align: top;\n",
       "    }\n",
       "\n",
       "    .dataframe thead th {\n",
       "        text-align: right;\n",
       "    }\n",
       "</style>\n",
       "<table border=\"1\" class=\"dataframe\">\n",
       "  <thead>\n",
       "    <tr style=\"text-align: right;\">\n",
       "      <th></th>\n",
       "      <th>Open</th>\n",
       "      <th>High</th>\n",
       "      <th>Low</th>\n",
       "      <th>Close</th>\n",
       "      <th>Adj Close</th>\n",
       "      <th>Volume</th>\n",
       "    </tr>\n",
       "    <tr>\n",
       "      <th>Date</th>\n",
       "      <th></th>\n",
       "      <th></th>\n",
       "      <th></th>\n",
       "      <th></th>\n",
       "      <th></th>\n",
       "      <th></th>\n",
       "    </tr>\n",
       "  </thead>\n",
       "  <tbody>\n",
       "    <tr>\n",
       "      <th>2015-01-02</th>\n",
       "      <td>6.969978</td>\n",
       "      <td>7.036998</td>\n",
       "      <td>6.791261</td>\n",
       "      <td>6.828494</td>\n",
       "      <td>4.695516</td>\n",
       "      <td>14567668</td>\n",
       "    </tr>\n",
       "    <tr>\n",
       "      <th>2015-01-05</th>\n",
       "      <td>6.724242</td>\n",
       "      <td>6.955085</td>\n",
       "      <td>6.687009</td>\n",
       "      <td>6.850834</td>\n",
       "      <td>4.710878</td>\n",
       "      <td>27743553</td>\n",
       "    </tr>\n",
       "    <tr>\n",
       "      <th>2015-01-06</th>\n",
       "      <td>6.865727</td>\n",
       "      <td>6.925299</td>\n",
       "      <td>6.768921</td>\n",
       "      <td>6.902959</td>\n",
       "      <td>4.746720</td>\n",
       "      <td>45486782</td>\n",
       "    </tr>\n",
       "    <tr>\n",
       "      <th>2015-01-07</th>\n",
       "      <td>7.036998</td>\n",
       "      <td>7.267841</td>\n",
       "      <td>7.022104</td>\n",
       "      <td>7.163589</td>\n",
       "      <td>4.925938</td>\n",
       "      <td>26784452</td>\n",
       "    </tr>\n",
       "    <tr>\n",
       "      <th>2015-01-08</th>\n",
       "      <td>7.223161</td>\n",
       "      <td>7.282734</td>\n",
       "      <td>7.051891</td>\n",
       "      <td>7.238055</td>\n",
       "      <td>4.977144</td>\n",
       "      <td>21225106</td>\n",
       "    </tr>\n",
       "    <tr>\n",
       "      <th>...</th>\n",
       "      <td>...</td>\n",
       "      <td>...</td>\n",
       "      <td>...</td>\n",
       "      <td>...</td>\n",
       "      <td>...</td>\n",
       "      <td>...</td>\n",
       "    </tr>\n",
       "    <tr>\n",
       "      <th>2021-05-21</th>\n",
       "      <td>10.790000</td>\n",
       "      <td>10.850000</td>\n",
       "      <td>10.650000</td>\n",
       "      <td>10.840000</td>\n",
       "      <td>10.821634</td>\n",
       "      <td>18604600</td>\n",
       "    </tr>\n",
       "    <tr>\n",
       "      <th>2021-05-24</th>\n",
       "      <td>10.860000</td>\n",
       "      <td>10.900000</td>\n",
       "      <td>10.760000</td>\n",
       "      <td>10.860000</td>\n",
       "      <td>10.841600</td>\n",
       "      <td>26485900</td>\n",
       "    </tr>\n",
       "    <tr>\n",
       "      <th>2021-05-25</th>\n",
       "      <td>10.850000</td>\n",
       "      <td>10.880000</td>\n",
       "      <td>10.730000</td>\n",
       "      <td>10.780000</td>\n",
       "      <td>10.780000</td>\n",
       "      <td>29283000</td>\n",
       "    </tr>\n",
       "    <tr>\n",
       "      <th>2021-05-26</th>\n",
       "      <td>10.830000</td>\n",
       "      <td>10.940000</td>\n",
       "      <td>10.820000</td>\n",
       "      <td>10.880000</td>\n",
       "      <td>10.880000</td>\n",
       "      <td>23004300</td>\n",
       "    </tr>\n",
       "    <tr>\n",
       "      <th>2021-05-27</th>\n",
       "      <td>10.860000</td>\n",
       "      <td>10.880000</td>\n",
       "      <td>10.690000</td>\n",
       "      <td>10.740000</td>\n",
       "      <td>10.740000</td>\n",
       "      <td>58841900</td>\n",
       "    </tr>\n",
       "  </tbody>\n",
       "</table>\n",
       "<p>1586 rows × 6 columns</p>\n",
       "</div>"
      ],
      "text/plain": [
       "                 Open       High        Low      Close  Adj Close    Volume\n",
       "Date                                                                       \n",
       "2015-01-02   6.969978   7.036998   6.791261   6.828494   4.695516  14567668\n",
       "2015-01-05   6.724242   6.955085   6.687009   6.850834   4.710878  27743553\n",
       "2015-01-06   6.865727   6.925299   6.768921   6.902959   4.746720  45486782\n",
       "2015-01-07   7.036998   7.267841   7.022104   7.163589   4.925938  26784452\n",
       "2015-01-08   7.223161   7.282734   7.051891   7.238055   4.977144  21225106\n",
       "...               ...        ...        ...        ...        ...       ...\n",
       "2021-05-21  10.790000  10.850000  10.650000  10.840000  10.821634  18604600\n",
       "2021-05-24  10.860000  10.900000  10.760000  10.860000  10.841600  26485900\n",
       "2021-05-25  10.850000  10.880000  10.730000  10.780000  10.780000  29283000\n",
       "2021-05-26  10.830000  10.940000  10.820000  10.880000  10.880000  23004300\n",
       "2021-05-27  10.860000  10.880000  10.690000  10.740000  10.740000  58841900\n",
       "\n",
       "[1586 rows x 6 columns]"
      ]
     },
     "metadata": {},
     "output_type": "display_data"
    }
   ],
   "source": [
    "df = str(input(\"Qual ativo analisar? Ex. digite ITSA4.SA  \"))\n",
    "date = str(input(\"Qual a data mais antiga? formato aaaa-mm-dd (ex: 2015-01-01)  \"))\n",
    "\n",
    "data = yf.download(df, start=date)\n",
    "display(data)"
   ]
  },
  {
   "cell_type": "code",
   "execution_count": 3,
   "metadata": {},
   "outputs": [
    {
     "data": {
      "text/plain": [
       "<AxesSubplot:title={'center':'Série Temporal Cotações'}, xlabel='Date'>"
      ]
     },
     "execution_count": 3,
     "metadata": {},
     "output_type": "execute_result"
    },
    {
     "data": {
      "image/png": "[encoded data removed]",
      "text/plain": [
       "<Figure size 432x288 with 1 Axes>"
      ]
     },
     "metadata": {
      "needs_background": "dark"
     },
     "output_type": "display_data"
    }
   ],
   "source": [
    "data[\"Close\"].plot(title= 'Série Temporal Cotações')"
   ]
  },
  {
   "cell_type": "code",
   "execution_count": 4,
   "metadata": {},
   "outputs": [
    {
     "data": {
      "text/html": [
       "<div>\n",
       "<style scoped>\n",
       "    .dataframe tbody tr th:only-of-type {\n",
       "        vertical-align: middle;\n",
       "    }\n",
       "\n",
       "    .dataframe tbody tr th {\n",
       "        vertical-align: top;\n",
       "    }\n",
       "\n",
       "    .dataframe thead th {\n",
       "        text-align: right;\n",
       "    }\n",
       "</style>\n",
       "<table border=\"1\" class=\"dataframe\">\n",
       "  <thead>\n",
       "    <tr style=\"text-align: right;\">\n",
       "      <th></th>\n",
       "      <th>Close</th>\n",
       "    </tr>\n",
       "    <tr>\n",
       "      <th>Date</th>\n",
       "      <th></th>\n",
       "    </tr>\n",
       "  </thead>\n",
       "  <tbody>\n",
       "    <tr>\n",
       "      <th>2015-01-05</th>\n",
       "      <td>0.003272</td>\n",
       "    </tr>\n",
       "    <tr>\n",
       "      <th>2015-01-06</th>\n",
       "      <td>0.007609</td>\n",
       "    </tr>\n",
       "    <tr>\n",
       "      <th>2015-01-07</th>\n",
       "      <td>0.037756</td>\n",
       "    </tr>\n",
       "    <tr>\n",
       "      <th>2015-01-08</th>\n",
       "      <td>0.010395</td>\n",
       "    </tr>\n",
       "    <tr>\n",
       "      <th>2015-01-09</th>\n",
       "      <td>-0.034979</td>\n",
       "    </tr>\n",
       "    <tr>\n",
       "      <th>...</th>\n",
       "      <td>...</td>\n",
       "    </tr>\n",
       "    <tr>\n",
       "      <th>2021-05-21</th>\n",
       "      <td>0.005566</td>\n",
       "    </tr>\n",
       "    <tr>\n",
       "      <th>2021-05-24</th>\n",
       "      <td>0.001845</td>\n",
       "    </tr>\n",
       "    <tr>\n",
       "      <th>2021-05-25</th>\n",
       "      <td>-0.007366</td>\n",
       "    </tr>\n",
       "    <tr>\n",
       "      <th>2021-05-26</th>\n",
       "      <td>0.009276</td>\n",
       "    </tr>\n",
       "    <tr>\n",
       "      <th>2021-05-27</th>\n",
       "      <td>-0.012868</td>\n",
       "    </tr>\n",
       "  </tbody>\n",
       "</table>\n",
       "<p>1585 rows × 1 columns</p>\n",
       "</div>"
      ],
      "text/plain": [
       "               Close\n",
       "Date                \n",
       "2015-01-05  0.003272\n",
       "2015-01-06  0.007609\n",
       "2015-01-07  0.037756\n",
       "2015-01-08  0.010395\n",
       "2015-01-09 -0.034979\n",
       "...              ...\n",
       "2021-05-21  0.005566\n",
       "2021-05-24  0.001845\n",
       "2021-05-25 -0.007366\n",
       "2021-05-26  0.009276\n",
       "2021-05-27 -0.012868\n",
       "\n",
       "[1585 rows x 1 columns]"
      ]
     },
     "execution_count": 4,
     "metadata": {},
     "output_type": "execute_result"
    }
   ],
   "source": [
    "#DataFrame com os Retornos\n",
    "x = op.calcula_retornos(data)\n",
    "x"
   ]
  },
  {
   "cell_type": "code",
   "execution_count": 5,
   "metadata": {},
   "outputs": [
    {
     "data": {
      "text/plain": [
       "<AxesSubplot:title={'center':'Série Temporal dos Retornos'}, xlabel='Date'>"
      ]
     },
     "execution_count": 5,
     "metadata": {},
     "output_type": "execute_result"
    },
    {
     "data": {
      "image/png": "[encoded data removed]",
      "text/plain": [
       "<Figure size 432x288 with 1 Axes>"
      ]
     },
     "metadata": {
      "needs_background": "dark"
     },
     "output_type": "display_data"
    }
   ],
   "source": [
    "x.plot(title = \"Série Temporal dos Retornos\")"
   ]
  },
  {
   "cell_type": "code",
   "execution_count": 6,
   "metadata": {},
   "outputs": [
    {
     "data": {
      "text/plain": [
       "array([[<AxesSubplot:title={'center':'Close'}>]], dtype=object)"
      ]
     },
     "execution_count": 6,
     "metadata": {},
     "output_type": "execute_result"
    },
    {
     "data": {
      "image/png": "[encoded data removed]",
      "text/plain": [
       "<Figure size 432x288 with 1 Axes>"
      ]
     },
     "metadata": {
      "needs_background": "dark"
     },
     "output_type": "display_data"
    }
   ],
   "source": [
    "#Histograma dos Retornos\n",
    "x.hist()"
   ]
  },
  {
   "cell_type": "code",
   "execution_count": 7,
   "metadata": {},
   "outputs": [
    {
     "data": {
      "text/html": [
       "<div>\n",
       "<style scoped>\n",
       "    .dataframe tbody tr th:only-of-type {\n",
       "        vertical-align: middle;\n",
       "    }\n",
       "\n",
       "    .dataframe tbody tr th {\n",
       "        vertical-align: top;\n",
       "    }\n",
       "\n",
       "    .dataframe thead th {\n",
       "        text-align: right;\n",
       "    }\n",
       "</style>\n",
       "<table border=\"1\" class=\"dataframe\">\n",
       "  <thead>\n",
       "    <tr style=\"text-align: right;\">\n",
       "      <th></th>\n",
       "      <th>Close</th>\n",
       "    </tr>\n",
       "  </thead>\n",
       "  <tbody>\n",
       "    <tr>\n",
       "      <th>count</th>\n",
       "      <td>1585.000000</td>\n",
       "    </tr>\n",
       "    <tr>\n",
       "      <th>mean</th>\n",
       "      <td>0.000493</td>\n",
       "    </tr>\n",
       "    <tr>\n",
       "      <th>std</th>\n",
       "      <td>0.020348</td>\n",
       "    </tr>\n",
       "    <tr>\n",
       "      <th>min</th>\n",
       "      <td>-0.108654</td>\n",
       "    </tr>\n",
       "    <tr>\n",
       "      <th>25%</th>\n",
       "      <td>-0.010949</td>\n",
       "    </tr>\n",
       "    <tr>\n",
       "      <th>50%</th>\n",
       "      <td>0.000000</td>\n",
       "    </tr>\n",
       "    <tr>\n",
       "      <th>75%</th>\n",
       "      <td>0.011823</td>\n",
       "    </tr>\n",
       "    <tr>\n",
       "      <th>max</th>\n",
       "      <td>0.102696</td>\n",
       "    </tr>\n",
       "  </tbody>\n",
       "</table>\n",
       "</div>"
      ],
      "text/plain": [
       "             Close\n",
       "count  1585.000000\n",
       "mean      0.000493\n",
       "std       0.020348\n",
       "min      -0.108654\n",
       "25%      -0.010949\n",
       "50%       0.000000\n",
       "75%       0.011823\n",
       "max       0.102696"
      ]
     },
     "execution_count": 7,
     "metadata": {},
     "output_type": "execute_result"
    }
   ],
   "source": [
    "x.describe()"
   ]
  },
  {
   "cell_type": "markdown",
   "metadata": {},
   "source": [
    "### Simula Preço de Ativos (preencher caixa de texto)"
   ]
  },
  {
   "cell_type": "code",
   "execution_count": 8,
   "metadata": {},
   "outputs": [
    {
     "name": "stdout",
     "output_type": "stream",
     "text": [
      "Qual o preço da ação? 10\n",
      "Qual o preço de exercício? 12\n",
      "Para quantos períodos de tempo? 100\n",
      "Quantas simulações? 1000\n",
      "DataFrame = 1, call = 2 ou put = 3? 1\n"
     ]
    },
    {
     "data": {
      "text/html": [
       "<div>\n",
       "<style scoped>\n",
       "    .dataframe tbody tr th:only-of-type {\n",
       "        vertical-align: middle;\n",
       "    }\n",
       "\n",
       "    .dataframe tbody tr th {\n",
       "        vertical-align: top;\n",
       "    }\n",
       "\n",
       "    .dataframe thead th {\n",
       "        text-align: right;\n",
       "    }\n",
       "</style>\n",
       "<table border=\"1\" class=\"dataframe\">\n",
       "  <thead>\n",
       "    <tr style=\"text-align: right;\">\n",
       "      <th></th>\n",
       "      <th>0</th>\n",
       "      <th>1</th>\n",
       "      <th>2</th>\n",
       "      <th>3</th>\n",
       "      <th>4</th>\n",
       "      <th>5</th>\n",
       "      <th>6</th>\n",
       "      <th>7</th>\n",
       "      <th>8</th>\n",
       "      <th>9</th>\n",
       "      <th>...</th>\n",
       "      <th>990</th>\n",
       "      <th>991</th>\n",
       "      <th>992</th>\n",
       "      <th>993</th>\n",
       "      <th>994</th>\n",
       "      <th>995</th>\n",
       "      <th>996</th>\n",
       "      <th>997</th>\n",
       "      <th>998</th>\n",
       "      <th>999</th>\n",
       "    </tr>\n",
       "  </thead>\n",
       "  <tbody>\n",
       "    <tr>\n",
       "      <th>0</th>\n",
       "      <td>9.993080</td>\n",
       "      <td>10.208946</td>\n",
       "      <td>9.905537</td>\n",
       "      <td>9.962744</td>\n",
       "      <td>10.046662</td>\n",
       "      <td>9.991278</td>\n",
       "      <td>9.806762</td>\n",
       "      <td>10.148826</td>\n",
       "      <td>9.928895</td>\n",
       "      <td>10.119400</td>\n",
       "      <td>...</td>\n",
       "      <td>9.890368</td>\n",
       "      <td>9.834368</td>\n",
       "      <td>9.873973</td>\n",
       "      <td>10.076426</td>\n",
       "      <td>10.097421</td>\n",
       "      <td>9.738324</td>\n",
       "      <td>9.854822</td>\n",
       "      <td>9.480856</td>\n",
       "      <td>9.630109</td>\n",
       "      <td>10.220380</td>\n",
       "    </tr>\n",
       "    <tr>\n",
       "      <th>1</th>\n",
       "      <td>9.765733</td>\n",
       "      <td>9.983151</td>\n",
       "      <td>10.183986</td>\n",
       "      <td>9.895405</td>\n",
       "      <td>9.847102</td>\n",
       "      <td>9.934186</td>\n",
       "      <td>10.356742</td>\n",
       "      <td>10.133344</td>\n",
       "      <td>10.151864</td>\n",
       "      <td>10.159077</td>\n",
       "      <td>...</td>\n",
       "      <td>10.036847</td>\n",
       "      <td>9.681729</td>\n",
       "      <td>9.784868</td>\n",
       "      <td>10.370892</td>\n",
       "      <td>10.135008</td>\n",
       "      <td>9.627528</td>\n",
       "      <td>9.886952</td>\n",
       "      <td>9.560381</td>\n",
       "      <td>9.739833</td>\n",
       "      <td>10.173057</td>\n",
       "    </tr>\n",
       "    <tr>\n",
       "      <th>2</th>\n",
       "      <td>9.978320</td>\n",
       "      <td>10.132230</td>\n",
       "      <td>10.443476</td>\n",
       "      <td>9.755805</td>\n",
       "      <td>9.976715</td>\n",
       "      <td>9.748609</td>\n",
       "      <td>10.378281</td>\n",
       "      <td>10.185735</td>\n",
       "      <td>9.973141</td>\n",
       "      <td>10.405648</td>\n",
       "      <td>...</td>\n",
       "      <td>9.735142</td>\n",
       "      <td>9.718111</td>\n",
       "      <td>9.970321</td>\n",
       "      <td>10.310256</td>\n",
       "      <td>10.227145</td>\n",
       "      <td>9.605089</td>\n",
       "      <td>9.815647</td>\n",
       "      <td>9.589137</td>\n",
       "      <td>9.714923</td>\n",
       "      <td>10.013865</td>\n",
       "    </tr>\n",
       "    <tr>\n",
       "      <th>3</th>\n",
       "      <td>9.957482</td>\n",
       "      <td>10.198017</td>\n",
       "      <td>10.325148</td>\n",
       "      <td>9.790900</td>\n",
       "      <td>9.883889</td>\n",
       "      <td>9.323493</td>\n",
       "      <td>10.439556</td>\n",
       "      <td>10.126085</td>\n",
       "      <td>10.070149</td>\n",
       "      <td>10.550571</td>\n",
       "      <td>...</td>\n",
       "      <td>9.788728</td>\n",
       "      <td>9.484244</td>\n",
       "      <td>9.963094</td>\n",
       "      <td>10.576111</td>\n",
       "      <td>9.979568</td>\n",
       "      <td>9.559571</td>\n",
       "      <td>9.672300</td>\n",
       "      <td>9.421639</td>\n",
       "      <td>10.055874</td>\n",
       "      <td>10.079800</td>\n",
       "    </tr>\n",
       "    <tr>\n",
       "      <th>4</th>\n",
       "      <td>10.091205</td>\n",
       "      <td>10.255978</td>\n",
       "      <td>10.624639</td>\n",
       "      <td>9.758167</td>\n",
       "      <td>9.768367</td>\n",
       "      <td>9.370364</td>\n",
       "      <td>10.392426</td>\n",
       "      <td>10.437544</td>\n",
       "      <td>10.380670</td>\n",
       "      <td>10.395285</td>\n",
       "      <td>...</td>\n",
       "      <td>9.904484</td>\n",
       "      <td>9.088634</td>\n",
       "      <td>9.820854</td>\n",
       "      <td>10.499008</td>\n",
       "      <td>9.946667</td>\n",
       "      <td>9.733291</td>\n",
       "      <td>9.866289</td>\n",
       "      <td>9.243491</td>\n",
       "      <td>10.190649</td>\n",
       "      <td>10.191239</td>\n",
       "    </tr>\n",
       "    <tr>\n",
       "      <th>...</th>\n",
       "      <td>...</td>\n",
       "      <td>...</td>\n",
       "      <td>...</td>\n",
       "      <td>...</td>\n",
       "      <td>...</td>\n",
       "      <td>...</td>\n",
       "      <td>...</td>\n",
       "      <td>...</td>\n",
       "      <td>...</td>\n",
       "      <td>...</td>\n",
       "      <td>...</td>\n",
       "      <td>...</td>\n",
       "      <td>...</td>\n",
       "      <td>...</td>\n",
       "      <td>...</td>\n",
       "      <td>...</td>\n",
       "      <td>...</td>\n",
       "      <td>...</td>\n",
       "      <td>...</td>\n",
       "      <td>...</td>\n",
       "      <td>...</td>\n",
       "    </tr>\n",
       "    <tr>\n",
       "      <th>96</th>\n",
       "      <td>13.572986</td>\n",
       "      <td>11.066706</td>\n",
       "      <td>9.812287</td>\n",
       "      <td>11.262845</td>\n",
       "      <td>11.917740</td>\n",
       "      <td>12.102108</td>\n",
       "      <td>9.638503</td>\n",
       "      <td>10.925793</td>\n",
       "      <td>7.412192</td>\n",
       "      <td>9.657933</td>\n",
       "      <td>...</td>\n",
       "      <td>10.115449</td>\n",
       "      <td>7.163885</td>\n",
       "      <td>11.333638</td>\n",
       "      <td>9.698575</td>\n",
       "      <td>13.667075</td>\n",
       "      <td>10.251734</td>\n",
       "      <td>9.724037</td>\n",
       "      <td>6.763622</td>\n",
       "      <td>7.495145</td>\n",
       "      <td>10.704287</td>\n",
       "    </tr>\n",
       "    <tr>\n",
       "      <th>97</th>\n",
       "      <td>13.021182</td>\n",
       "      <td>10.983080</td>\n",
       "      <td>9.871383</td>\n",
       "      <td>11.212616</td>\n",
       "      <td>11.904104</td>\n",
       "      <td>11.923597</td>\n",
       "      <td>9.736585</td>\n",
       "      <td>10.657481</td>\n",
       "      <td>7.515918</td>\n",
       "      <td>9.743986</td>\n",
       "      <td>...</td>\n",
       "      <td>10.196864</td>\n",
       "      <td>7.340559</td>\n",
       "      <td>11.545747</td>\n",
       "      <td>9.820833</td>\n",
       "      <td>12.800382</td>\n",
       "      <td>10.096546</td>\n",
       "      <td>9.767412</td>\n",
       "      <td>6.931431</td>\n",
       "      <td>7.551708</td>\n",
       "      <td>10.881511</td>\n",
       "    </tr>\n",
       "    <tr>\n",
       "      <th>98</th>\n",
       "      <td>12.940984</td>\n",
       "      <td>10.727315</td>\n",
       "      <td>10.156374</td>\n",
       "      <td>10.937025</td>\n",
       "      <td>12.409884</td>\n",
       "      <td>11.624746</td>\n",
       "      <td>9.542242</td>\n",
       "      <td>10.692766</td>\n",
       "      <td>7.472218</td>\n",
       "      <td>10.027736</td>\n",
       "      <td>...</td>\n",
       "      <td>9.953228</td>\n",
       "      <td>7.322343</td>\n",
       "      <td>12.003098</td>\n",
       "      <td>10.054136</td>\n",
       "      <td>13.058124</td>\n",
       "      <td>9.991473</td>\n",
       "      <td>9.719032</td>\n",
       "      <td>6.953920</td>\n",
       "      <td>7.620692</td>\n",
       "      <td>11.040233</td>\n",
       "    </tr>\n",
       "    <tr>\n",
       "      <th>99</th>\n",
       "      <td>12.916659</td>\n",
       "      <td>10.136426</td>\n",
       "      <td>9.825048</td>\n",
       "      <td>11.036073</td>\n",
       "      <td>12.146062</td>\n",
       "      <td>11.843814</td>\n",
       "      <td>8.971345</td>\n",
       "      <td>10.782818</td>\n",
       "      <td>7.422193</td>\n",
       "      <td>9.884284</td>\n",
       "      <td>...</td>\n",
       "      <td>9.751070</td>\n",
       "      <td>7.369149</td>\n",
       "      <td>11.638885</td>\n",
       "      <td>10.538411</td>\n",
       "      <td>13.536242</td>\n",
       "      <td>9.868484</td>\n",
       "      <td>9.193630</td>\n",
       "      <td>6.948058</td>\n",
       "      <td>7.458769</td>\n",
       "      <td>10.554774</td>\n",
       "    </tr>\n",
       "    <tr>\n",
       "      <th>100</th>\n",
       "      <td>12.943448</td>\n",
       "      <td>9.743137</td>\n",
       "      <td>9.961095</td>\n",
       "      <td>11.134091</td>\n",
       "      <td>12.346471</td>\n",
       "      <td>11.754864</td>\n",
       "      <td>8.899065</td>\n",
       "      <td>10.637309</td>\n",
       "      <td>7.508167</td>\n",
       "      <td>10.259273</td>\n",
       "      <td>...</td>\n",
       "      <td>9.616921</td>\n",
       "      <td>7.183617</td>\n",
       "      <td>11.744571</td>\n",
       "      <td>10.451153</td>\n",
       "      <td>13.439373</td>\n",
       "      <td>9.981114</td>\n",
       "      <td>9.419534</td>\n",
       "      <td>7.116940</td>\n",
       "      <td>7.182818</td>\n",
       "      <td>10.123689</td>\n",
       "    </tr>\n",
       "  </tbody>\n",
       "</table>\n",
       "<p>101 rows × 1000 columns</p>\n",
       "</div>"
      ],
      "text/plain": [
       "           0          1          2          3          4          5    \\\n",
       "0     9.993080  10.208946   9.905537   9.962744  10.046662   9.991278   \n",
       "1     9.765733   9.983151  10.183986   9.895405   9.847102   9.934186   \n",
       "2     9.978320  10.132230  10.443476   9.755805   9.976715   9.748609   \n",
       "3     9.957482  10.198017  10.325148   9.790900   9.883889   9.323493   \n",
       "4    10.091205  10.255978  10.624639   9.758167   9.768367   9.370364   \n",
       "..         ...        ...        ...        ...        ...        ...   \n",
       "96   13.572986  11.066706   9.812287  11.262845  11.917740  12.102108   \n",
       "97   13.021182  10.983080   9.871383  11.212616  11.904104  11.923597   \n",
       "98   12.940984  10.727315  10.156374  10.937025  12.409884  11.624746   \n",
       "99   12.916659  10.136426   9.825048  11.036073  12.146062  11.843814   \n",
       "100  12.943448   9.743137   9.961095  11.134091  12.346471  11.754864   \n",
       "\n",
       "           6          7          8          9    ...        990       991  \\\n",
       "0     9.806762  10.148826   9.928895  10.119400  ...   9.890368  9.834368   \n",
       "1    10.356742  10.133344  10.151864  10.159077  ...  10.036847  9.681729   \n",
       "2    10.378281  10.185735   9.973141  10.405648  ...   9.735142  9.718111   \n",
       "3    10.439556  10.126085  10.070149  10.550571  ...   9.788728  9.484244   \n",
       "4    10.392426  10.437544  10.380670  10.395285  ...   9.904484  9.088634   \n",
       "..         ...        ...        ...        ...  ...        ...       ...   \n",
       "96    9.638503  10.925793   7.412192   9.657933  ...  10.115449  7.163885   \n",
       "97    9.736585  10.657481   7.515918   9.743986  ...  10.196864  7.340559   \n",
       "98    9.542242  10.692766   7.472218  10.027736  ...   9.953228  7.322343   \n",
       "99    8.971345  10.782818   7.422193   9.884284  ...   9.751070  7.369149   \n",
       "100   8.899065  10.637309   7.508167  10.259273  ...   9.616921  7.183617   \n",
       "\n",
       "           992        993        994        995       996       997  \\\n",
       "0     9.873973  10.076426  10.097421   9.738324  9.854822  9.480856   \n",
       "1     9.784868  10.370892  10.135008   9.627528  9.886952  9.560381   \n",
       "2     9.970321  10.310256  10.227145   9.605089  9.815647  9.589137   \n",
       "3     9.963094  10.576111   9.979568   9.559571  9.672300  9.421639   \n",
       "4     9.820854  10.499008   9.946667   9.733291  9.866289  9.243491   \n",
       "..         ...        ...        ...        ...       ...       ...   \n",
       "96   11.333638   9.698575  13.667075  10.251734  9.724037  6.763622   \n",
       "97   11.545747   9.820833  12.800382  10.096546  9.767412  6.931431   \n",
       "98   12.003098  10.054136  13.058124   9.991473  9.719032  6.953920   \n",
       "99   11.638885  10.538411  13.536242   9.868484  9.193630  6.948058   \n",
       "100  11.744571  10.451153  13.439373   9.981114  9.419534  7.116940   \n",
       "\n",
       "           998        999  \n",
       "0     9.630109  10.220380  \n",
       "1     9.739833  10.173057  \n",
       "2     9.714923  10.013865  \n",
       "3    10.055874  10.079800  \n",
       "4    10.190649  10.191239  \n",
       "..         ...        ...  \n",
       "96    7.495145  10.704287  \n",
       "97    7.551708  10.881511  \n",
       "98    7.620692  11.040233  \n",
       "99    7.458769  10.554774  \n",
       "100   7.182818  10.123689  \n",
       "\n",
       "[101 rows x 1000 columns]"
      ]
     },
     "metadata": {},
     "output_type": "display_data"
    },
    {
     "data": {
      "image/png": "[encoded data removed]",
      "text/plain": [
       "<Figure size 432x288 with 1 Axes>"
      ]
     },
     "metadata": {
      "needs_background": "dark"
     },
     "output_type": "display_data"
    }
   ],
   "source": [
    "S = op.mc_normal(x)\n",
    "display(S)\n",
    "plt.plot(S)\n",
    "plt.grid(True)\n",
    "plt.xlabel('Steps')\n",
    "plt.ylabel('Valor $')\n",
    "plt.show()"
   ]
  },
  {
   "cell_type": "markdown",
   "metadata": {},
   "source": [
    "### Precifica Call Europeia por MC (preencher caixa de texto)"
   ]
  },
  {
   "cell_type": "code",
   "execution_count": 9,
   "metadata": {},
   "outputs": [
    {
     "name": "stdout",
     "output_type": "stream",
     "text": [
      "Qual o preço da ação? 10\n",
      "Qual o preço de exercício? 12\n",
      "Para quantos períodos de tempo? 100\n",
      "Quantas simulações? 1000\n",
      "DataFrame = 1, call = 2 ou put = 3? 2\n"
     ]
    },
    {
     "data": {
      "text/plain": [
       "0.26264781165646783"
      ]
     },
     "execution_count": 9,
     "metadata": {},
     "output_type": "execute_result"
    }
   ],
   "source": [
    "op.mc_normal(x)"
   ]
  },
  {
   "cell_type": "markdown",
   "metadata": {},
   "source": [
    "### Precifica Put Europeia por MC (preencher caixa de texto)"
   ]
  },
  {
   "cell_type": "code",
   "execution_count": 10,
   "metadata": {},
   "outputs": [
    {
     "name": "stdout",
     "output_type": "stream",
     "text": [
      "Qual o preço da ação? 10\n",
      "Qual o preço de exercício? 10\n",
      "Para quantos períodos de tempo? 100\n",
      "Quantas simulações? 1000\n",
      "DataFrame = 1, call = 2 ou put = 3? 3\n"
     ]
    },
    {
     "data": {
      "text/plain": [
       "0.7955360929494675"
      ]
     },
     "execution_count": 10,
     "metadata": {},
     "output_type": "execute_result"
    }
   ],
   "source": [
    "op.mc_normal(x)"
   ]
  },
  {
   "cell_type": "markdown",
   "metadata": {},
   "source": [
    "### Precifica Call Europeia por BS (preencher caixa de texto)"
   ]
  },
  {
   "cell_type": "code",
   "execution_count": 11,
   "metadata": {},
   "outputs": [
    {
     "name": "stdout",
     "output_type": "stream",
     "text": [
      "Qual o preço da ação? 10\n",
      "Qual o preço de exercício? 12\n",
      "Quantos períodos até a data de expiração? 100\n"
     ]
    },
    {
     "data": {
      "text/plain": [
       "0.27"
      ]
     },
     "execution_count": 11,
     "metadata": {},
     "output_type": "execute_result"
    }
   ],
   "source": [
    "o = op.euro_vanilla_call(x)\n",
    "o"
   ]
  },
  {
   "cell_type": "markdown",
   "metadata": {},
   "source": [
    "### Precifica Put Europeia por BS (preencher caixa de texto)"
   ]
  },
  {
   "cell_type": "code",
   "execution_count": 12,
   "metadata": {},
   "outputs": [
    {
     "name": "stdout",
     "output_type": "stream",
     "text": [
      "Qual o preço da ação? 10\n",
      "Qual o preço de exercício? 10\n",
      "Quantos períodos até a data de expiração? 100\n"
     ]
    },
    {
     "data": {
      "text/plain": [
       "0.75"
      ]
     },
     "execution_count": 12,
     "metadata": {},
     "output_type": "execute_result"
    }
   ],
   "source": [
    "o = op.euro_vanilla_put(x)\n",
    "o"
   ]
  },
  {
   "cell_type": "markdown",
   "metadata": {},
   "source": [
    "### Precifica Call Exótica por MC - Preço final igual a média dos últimos 5 dias (preencher caixa de texto)"
   ]
  },
  {
   "cell_type": "code",
   "execution_count": 13,
   "metadata": {
    "scrolled": true
   },
   "outputs": [
    {
     "name": "stdout",
     "output_type": "stream",
     "text": [
      "Qual o preço da ação? 10\n",
      "Qual o preço de exercício? 12\n",
      "Para quantos períodos de tempo? 100\n",
      "Quantas simulações? 10000\n"
     ]
    },
    {
     "data": {
      "text/plain": [
       "0.2364982104628767"
      ]
     },
     "execution_count": 13,
     "metadata": {},
     "output_type": "execute_result"
    }
   ],
   "source": [
    "op.exotica(x, retornar = 2)"
   ]
  },
  {
   "cell_type": "markdown",
   "metadata": {},
   "source": [
    "### Precifica Put Exótica por MC - Preço final igual a média dos últimos 5 dias (preencher caixa de texto)"
   ]
  },
  {
   "cell_type": "code",
   "execution_count": 14,
   "metadata": {
    "scrolled": false
   },
   "outputs": [
    {
     "name": "stdout",
     "output_type": "stream",
     "text": [
      "Qual o preço da ação? 10\n",
      "Qual o preço de exercício? 10\n",
      "Para quantos períodos de tempo? 100\n",
      "Quantas simulações? 10000\n"
     ]
    },
    {
     "data": {
      "text/plain": [
       "0.7484921436648864"
      ]
     },
     "execution_count": 14,
     "metadata": {},
     "output_type": "execute_result"
    }
   ],
   "source": [
    "op.exotica(x, retornar = 3)"
   ]
  },
  {
   "cell_type": "markdown",
   "metadata": {},
   "source": [
    "### Precifica Higher Binária por MC (preencher caixa de texto)\n"
   ]
  },
  {
   "cell_type": "code",
   "execution_count": 18,
   "metadata": {
    "scrolled": true
   },
   "outputs": [
    {
     "name": "stdout",
     "output_type": "stream",
     "text": [
      "Qual o preço da ação? 10\n",
      "Qual o preço de exercício? 12\n",
      "Qual o valor da recompensa? 1000\n",
      "Para quantos períodos de tempo? 100\n",
      "Quantas simulações? 10000\n"
     ]
    },
    {
     "data": {
      "text/plain": [
       "174.4696900308832"
      ]
     },
     "execution_count": 18,
     "metadata": {},
     "output_type": "execute_result"
    }
   ],
   "source": [
    "op.binaria(x, retornar = 1)"
   ]
  },
  {
   "cell_type": "markdown",
   "metadata": {},
   "source": [
    "### Precifica Lower Binária por MC (preencher caixa de texto)"
   ]
  },
  {
   "cell_type": "code",
   "execution_count": 19,
   "metadata": {},
   "outputs": [
    {
     "name": "stdout",
     "output_type": "stream",
     "text": [
      "Qual o preço da ação? 10\n",
      "Qual o preço de exercício? 12\n",
      "Qual o valor da recompensa? 1000\n",
      "Para quantos períodos de tempo? 100\n",
      "Quantas simulações? 10000\n"
     ]
    },
    {
     "data": {
      "text/plain": [
       "813.8300529890802"
      ]
     },
     "execution_count": 19,
     "metadata": {},
     "output_type": "execute_result"
    }
   ],
   "source": [
    "op.binaria(x, retornar = 2)"
   ]
  }
 ],
 "metadata": {
  "kernelspec": {
   "display_name": "Python 3",
   "language": "python",
   "name": "python3"
  },
  "language_info": {
   "codemirror_mode": {
    "name": "ipython",
    "version": 3
   },
   "file_extension": ".py",
   "mimetype": "text/x-python",
   "name": "python",
   "nbconvert_exporter": "python",
   "pygments_lexer": "ipython3",
   "version": "3.8.5"
  }
 },
 "nbformat": 4,
 "nbformat_minor": 4
}
