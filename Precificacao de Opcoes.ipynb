{
 "cells": [
  {
   "cell_type": "markdown",
   "metadata": {},
   "source": [
    "# Calculadora de Opções"
   ]
  },
  {
   "cell_type": "markdown",
   "metadata": {},
   "source": [
    "Para usar a calculadora, é só clicar me \"run all\" e ir preenchendo as caixas de texto que aparecerem\n",
    "\n",
    "A calculadora possui os mecanismos descritos na célula de funções, sendo os principais os seguintes recursos:\n",
    "- Simulação de Monte Carlo (mc_normal) para simular a série de preço de um ativo.\n",
    "- Precificação de Opção Europeia (euro_vanilla_call) para precificar uma Call.\n",
    "- Precificação de Opção Europeia (euro_vanilla_put) para precificar uma Put.\n",
    "- Precificação de Call ou Put de uma Opção Exótica (exotica) em que o preço de exercício é calculado pela média dos preços dos últimos 5 dias.\n",
    "- Precificação de Opção Binária (binaria)\n",
    "\n",
    "Obs: A calculadora importa os dados através da API do Yahoo Finance e do Banco Central através de algumas funções. A conexão com a internet é necessária."
   ]
  },
  {
   "cell_type": "markdown",
   "metadata": {},
   "source": [
    "### Importar Libs"
   ]
  },
  {
   "cell_type": "code",
   "execution_count": 1,
   "metadata": {},
   "outputs": [],
   "source": [
    "import yfinance as yf\n",
    "import math\n",
    "import matplotlib.pyplot as plt\n",
    "import numpy as np\n",
    "from time import time\n",
    "import pandas as pd\n",
    "from datetime import date\n",
    "import scipy.stats\n",
    "plt.style.use('dark_background')\n",
    "%matplotlib inline"
   ]
  },
  {
   "cell_type": "markdown",
   "metadata": {},
   "source": [
    "### Funções"
   ]
  },
  {
   "cell_type": "code",
   "execution_count": 31,
   "metadata": {},
   "outputs": [],
   "source": [
    "def consulta_bc(codigo_bcb):\n",
    "    '''\n",
    "    Importa os dados Banco Central através de uma API\n",
    "    '''\n",
    "    url = 'http://api.bcb.gov.br/dados/serie/bcdata.sgs.{}/dados?formato=json'.format(codigo_bcb)\n",
    "    df = pd.read_json(url)\n",
    "    df['data'] = pd.to_datetime(df['data'], dayfirst=True)\n",
    "    df.set_index('data', inplace=True)\n",
    "    return df\n",
    "\n",
    "\n",
    "def calcula_retornos(data: pd.Series, column=\"Close\"):\n",
    "    '''\n",
    "    Calcula o retorno para cada intervalo de tempo da série\n",
    "    '''\n",
    "    df = data[column].pct_change()\n",
    "    df.drop(df.head(1).index,inplace=True)\n",
    "    \n",
    "    return pd.DataFrame(df)\n",
    "\n",
    "\n",
    "def cornish (r: pd.Series, z):\n",
    "    '''\n",
    "    Função para adptar o z com a ampliação de cornish-fisher\n",
    "    '''\n",
    "    s = scipy.stats.skew(r)\n",
    "    k = scipy.stats.kurtosis(r)\n",
    "    z = (z +\n",
    "            (z**2 - 1)*s/6 +\n",
    "            (z**3 -3*z)*(k-3)/24 -\n",
    "            (2*z**3 - 5*z)*(s**2)/36\n",
    "        )\n",
    "    return z\n",
    "\n",
    "\n",
    "def is_normal(r, level=0.01):\n",
    "    \"\"\"\n",
    "    Utiliza o Jarque-Bera test para determinar se a distribuição é normal ou não\n",
    "    O nível de confiança é de 1%, podendo mudar seu parâmetro\n",
    "    Retorna verdadeiro se a hipotese de normalidade é verdadeira\n",
    "    \"\"\"\n",
    "    statistic, p_value = scipy.stats.jarque_bera(r)\n",
    "    return p_value > level\n",
    "\n",
    "\n",
    "def mc_normal(data, S0 = -1, K = -1, r = -1, M = -1, I = -1, retornar = -1):\n",
    "    '''\n",
    "    Retorna um DataFrame com as simulações de Monte Carlo\n",
    "    Ou mesmo o valor de uma opção europeia\n",
    "    \n",
    "    Adaptado de Pricing a European Call Option Using Monte Carlo Simulation por Nícolas Mikio\n",
    "    https://www.datasciencecentral.com/profiles/blogs/pricing-options-using-monte-carlo-simulations\n",
    "    https://sphelps.net/teaching/fpmf/slides/all.html\n",
    "    '''\n",
    "    if S0 == -1:\n",
    "        S0 = float(input(\"Qual o preço da ação? \"))\n",
    "        \n",
    "    if K == -1:\n",
    "        K = float(input(\"Qual o preço de exercício? \"))\n",
    "        \n",
    "    if M == -1:\n",
    "        M = int(input(\"Para quantos períodos de tempo? \"))\n",
    "        \n",
    "    if I == -1:\n",
    "        I = int(input(\"Quantas simulações? \"))\n",
    "        \n",
    "    if r == -1:  \n",
    "        cdi = consulta_bc(12)\n",
    "        cdi_recente = cdi.iloc[-1]\n",
    "        r = (1 + cdi_recente/100).prod()**(252)-1\n",
    "        #Transformação em taxa composta continuamente\n",
    "        r = math.log(r+1)\n",
    "    \n",
    "    T = M/252\n",
    "\n",
    "    sigma = data.std()*(252**0.5)\n",
    "    sigma = sigma[0]\n",
    "    \n",
    "    #Usar a função is_normal para verificar com o teste de Jarque-Bera se a distribuição dos retornos é normal\n",
    "    #Caso a distribuição NÃO for normal, então usamos a ampliação de cornish-fisher para adaptar o z:\n",
    "    if is_normal(data) == False:\n",
    "        \n",
    "        S = S0 * np.exp(np.cumsum((r - 0.5 * sigma ** 2) * (T/M) + sigma * math.sqrt(T/M) * \n",
    "                                  cornish(data, np.random.standard_normal((M + 1, I))), axis=0))\n",
    "        \n",
    "    #Caso a distribuição for normal, então:\n",
    "    else:\n",
    "        S = S0 * np.exp(np.cumsum((r - 0.5 * sigma ** 2) * (T/M) + sigma * math.sqrt(T/M) * \n",
    "                                  np.random.standard_normal((M + 1, I)), axis=0))\n",
    "    \n",
    "    if retornar == -1:\n",
    "        retornar = int(input(\"DataFrame = 1, call = 2 ou put = 3? \"))\n",
    "    \n",
    "    if retornar == 1:\n",
    "        return  pd.DataFrame(S)\n",
    "    \n",
    "    if retornar == 2:\n",
    "        return math.exp(-r * T) * sum(np.maximum(S[-1] - K, 0)) / I\n",
    "    \n",
    "    if retornar == 3:\n",
    "        return math.exp(-r * T) * sum(np.maximum(K - S[-1], 0)) / I\n",
    "\n",
    "\n",
    "def euro_vanilla_call(data, S=-1, K=-1, T=-1, r=-1):\n",
    "    '''\n",
    "    Precifica uma opção de call europeia, com base nos argumentos fornecidos:\n",
    "    (data, S= spot price, K= strike price, T= time to maturity, r= interest rate).\n",
    "    \n",
    "    Os argumentos podem ser digitados no input, ou mesmo incluídos dentro da função.\n",
    "    \n",
    "    É utilizado a ampliação de cornish-fisher para corrigir o valor z atribuído pelas argumentos d1 e d2\n",
    "    \n",
    "    A taxa livre de risco dada como default pela função é a o CDI composta continuamente,\n",
    "    porém pode ser modificada na função ao escrever:\n",
    "    euro_vanilla_call(data, r= valor_da_taxa)\n",
    "    '''\n",
    "    \n",
    "    #S: spot price\n",
    "    #K: strike price\n",
    "    #T: time to maturity\n",
    "    #r: interest rate\n",
    "    #sigma: volatility of underlying asset\n",
    "    \n",
    "    if S == -1:\n",
    "        S = float(input(\"Qual o preço da ação? \"))\n",
    "        \n",
    "    if K == -1:\n",
    "        K = float(input(\"Qual o preço de exercício? \"))\n",
    "        \n",
    "    if T == -1:\n",
    "        T = int(input(\"Quantos períodos até a data de expiração? \"))\n",
    "        T = T/252\n",
    "        \n",
    "    if r == -1:  \n",
    "        cdi = consulta_bc(12)\n",
    "        cdi_recente = cdi.iloc[-1]\n",
    "        r = (1 + cdi_recente/100).prod()**(252)-1\n",
    "        #Transformação em taxa composta continuamente\n",
    "        r = math.log(r+1)\n",
    "    \n",
    "    #volatilidade (desvio padrao) anualizado\n",
    "    sigma = data.std()*(252**0.5)\n",
    "    \n",
    "    d1 = (np.log(S / K) + (r + 0.5 * sigma ** 2) * T) / (sigma * np.sqrt(T))\n",
    "    d2 = (np.log(S / K) + (r - 0.5 * sigma ** 2) * T) / (sigma * np.sqrt(T))\n",
    "    \n",
    "    d1 = cornish(data, d1)\n",
    "    d2 = cornish(data, d2)\n",
    "    \n",
    "    call = (S * scipy.stats.norm.cdf(d1, 0.0, 1.0) - K * np.exp(-r * T) * scipy.stats.norm.cdf(d2, 0.0, 1.0))\n",
    "    \n",
    "    return call[0].round(2)\n",
    "\n",
    "\n",
    "def euro_vanilla_put(data, S=-1, K=-1, T=-1, r=-1):\n",
    "    \n",
    "    '''\n",
    "    Precifica uma opção de put europeia, com base nos argumentos fornecidos:\n",
    "    (data, S= spot price, K= strike price, T= time to maturity, r= interest rate).\n",
    "    \n",
    "    Os argumentos podem ser digitados no input, ou mesmo incluídos dentro da função.\n",
    "    \n",
    "    É utilizado a ampliação de cornish-fisher para corrigir o valor z atribuído pelas argumentos d1 e d2\n",
    "    \n",
    "    A taxa livre de risco dada como default pela função é a o CDI acumulado anual dos anos 2020 a 2021,\n",
    "    porém pode ser modificada na função ao escrever:\n",
    "    euro_vanilla_call(data, r= valor_da_taxa)\n",
    "    '''\n",
    "    \n",
    "    #S: spot price\n",
    "    #K: strike price\n",
    "    #T: time to maturity\n",
    "    #r: interest rate\n",
    "    #sigma: volatility of underlying asset\n",
    "    \n",
    "    if S == -1:\n",
    "        S = float(input(\"Qual o preço da ação? \"))\n",
    "        \n",
    "    if K == -1:\n",
    "        K = float(input(\"Qual o preço de exercício? \"))\n",
    "        \n",
    "    if T == -1:\n",
    "        T = int(input(\"Quantos períodos até a data de expiração? \"))\n",
    "        T = T/252\n",
    "        \n",
    "    if r == -1:  \n",
    "        cdi = consulta_bc(12)\n",
    "        cdi_recente = cdi.iloc[-1]\n",
    "        r = (1 + cdi_recente/100).prod()**(252)-1\n",
    "        #Transformação em taxa composta continuamente\n",
    "        r = math.log(r+1)\n",
    "    \n",
    "    #volatilidade (desvio padrao) anualizado\n",
    "    sigma = data.std()*(252**0.5)\n",
    "    \n",
    "    d1 = (np.log(S / K) + (r + 0.5 * sigma ** 2) * T) / (sigma * np.sqrt(T))\n",
    "    d2 = (np.log(S / K) + (r - 0.5 * sigma ** 2) * T) / (sigma * np.sqrt(T))\n",
    "    \n",
    "    d1 = cornish(data, d1)\n",
    "    d2 = cornish(data, d2)\n",
    "    \n",
    "    put = (K * np.exp(-r * T) * scipy.stats.norm.cdf(-d2, 0.0, 1.0) - S * scipy.stats.norm.cdf(-d1, 0.0, 1.0))\n",
    "    \n",
    "    return put[0].round(2)\n",
    "\n",
    "\n",
    "def exotica(data, S0 = -1, K = -1, r = -1, M = -1, I = -1, retornar = -1):\n",
    "    '''\n",
    "    Retorna um DataFrame com as simulações de Monte Carlo, ou mesmo o valor de uma opção exótica\n",
    "    em que o preço final é a média dos últimos 5 dias úteis    \n",
    "    '''\n",
    "    if S0 == -1:\n",
    "        S0 = float(input(\"Qual o preço da ação? \"))\n",
    "        \n",
    "    if K == -1:\n",
    "        K = float(input(\"Qual o preço de exercício? \"))\n",
    "        \n",
    "    if M == -1:\n",
    "        M = int(input(\"Para quantos períodos de tempo? \"))\n",
    "        \n",
    "    if I == -1:\n",
    "        I = int(input(\"Quantas simulações? \"))\n",
    "        \n",
    "    if r == -1:  \n",
    "        cdi = consulta_bc(12)\n",
    "        cdi_recente = cdi.iloc[-1]\n",
    "        r = (1 + cdi_recente/100).prod()**(252)-1\n",
    "        #Transformação em taxa composta continuamente\n",
    "        r = math.log(r+1)\n",
    "        \n",
    "    T = M/252\n",
    "        \n",
    "    sigma = data.std()*(252**0.5)\n",
    "    sigma = sigma[0]\n",
    "    \n",
    "    #Usar a função is_normal para verificar com o teste de Jarque-Bera se a distribuição dos retornos é normal\n",
    "    #Caso a distribuição NÃO for normal, então usamos a ampliação de cornish-fisher para adaptar o z:\n",
    "    if is_normal(data) == False:\n",
    "        S = S0 * np.exp(np.cumsum((r - 0.5 * sigma ** 2) * (T/M) + sigma * math.sqrt(T/M) * \n",
    "                                  cornish(data, np.random.standard_normal((M + 1, I))), axis=0))\n",
    "        \n",
    "    #Caso a distribuição for normal, então:\n",
    "    else:\n",
    "        S = S0 * np.exp(np.cumsum((r - 0.5 * sigma ** 2) * (T/M) + sigma * math.sqrt(T/M) * \n",
    "                                  np.random.standard_normal((M + 1, I)), axis=0))\n",
    "    \n",
    "    if retornar == -1:\n",
    "        retornar = int(input(\"DataFrame = 1, call = 2 ou put = 3? \"))\n",
    "    \n",
    "    S = pd.DataFrame(S)\n",
    "    \n",
    "    if retornar == 1:\n",
    "        return S\n",
    "    \n",
    "    if retornar == 2:\n",
    "        return math.exp(-r * T) * sum(np.maximum(S.iloc[-6:-1].mean() - K, 0)) / I\n",
    "    \n",
    "    if retornar == 3:\n",
    "        return math.exp(-r * T) * sum(np.maximum(K - S.iloc[-6:-1].mean(), 0)) / I\n",
    "    \n",
    "    \n",
    "    \n",
    "def binaria(data, S0 = -1, K = -1, recompensa =-1, r = -1, M = -1, I = -1, retornar = -1):\n",
    "    '''\n",
    "    Retorna o preço de uma opção exótica binária    \n",
    "    '''\n",
    "    if S0 == -1:\n",
    "        S0 = float(input(\"Qual o preço da ação? \"))\n",
    "        \n",
    "    if K == -1:\n",
    "        K = float(input(\"Qual o preço de exercício? \"))\n",
    "    \n",
    "    if recompensa == -1:\n",
    "        recompensa = float(input(\"Qual o valor da recompensa? \"))\n",
    "        \n",
    "    if M == -1:\n",
    "        M = int(input(\"Para quantos períodos de tempo? \"))\n",
    "        \n",
    "    if I == -1:\n",
    "        I = int(input(\"Quantas simulações? \"))\n",
    "        \n",
    "    if r == -1:  \n",
    "        cdi = consulta_bc(12)\n",
    "        cdi_recente = cdi.iloc[-1]\n",
    "        r = (1 + cdi_recente/100).prod()**(252)-1\n",
    "        #Transformação em taxa composta continuamente\n",
    "        r = math.log(r+1)\n",
    "       \n",
    "    T = M/252\n",
    "    \n",
    "    sigma = data.std()*(252**0.5)\n",
    "    sigma = sigma[0]\n",
    "    \n",
    "    #Usar a função is_normal para verificar com o teste de Jarque-Bera se a distribuição dos retornos é normal\n",
    "    #Caso a distribuição NÃO for normal, então usamos a ampliação de cornish-fisher para adaptar o z:\n",
    "    if is_normal(data) == False:\n",
    "        S = S0 * np.exp(np.cumsum((r - 0.5 * sigma ** 2) * (T/M) + sigma * math.sqrt(T/M) * \n",
    "                                  cornish(data, np.random.standard_normal((M + 1, I))), axis=0))\n",
    "        \n",
    "    #Caso a distribuição for normal, então:\n",
    "    else:\n",
    "        S = S0 * np.exp(np.cumsum((r - 0.5 * sigma ** 2) * (T/M) + sigma * math.sqrt(T/M) * \n",
    "                                  np.random.standard_normal((M + 1, I)), axis=0))\n",
    "    \n",
    "    if retornar == -1:\n",
    "        retornar = int(input(\"higher = 1 ou lower = 2? \"))\n",
    "\n",
    "    #Higher\n",
    "    if retornar == 1:\n",
    "        payoffs = np.sum(S[-1] > K)\n",
    "\n",
    "    #Lower\n",
    "    if retornar == 2:\n",
    "        payoffs = np.sum(S[-1] < K)\n",
    "\n",
    "    option_price = math.exp(-r * T) * (payoffs / I) * recompensa\n",
    "    \n",
    "    return option_price"
   ]
  },
  {
   "cell_type": "code",
   "execution_count": 2,
   "metadata": {},
   "outputs": [
    {
     "name": "stdout",
     "output_type": "stream",
     "text": [
      "Qual ativo analisar? Ex. digite ITSA4.SA  ITSA4.SA\n",
      "Qual a data mais antiga? formato aaaa-mm-dd (ex: 2015-01-01)  2015-01-01\n",
      "[*********************100%***********************]  1 of 1 completed\n"
     ]
    },
    {
     "data": {
      "text/html": [
       "<div>\n",
       "<style scoped>\n",
       "    .dataframe tbody tr th:only-of-type {\n",
       "        vertical-align: middle;\n",
       "    }\n",
       "\n",
       "    .dataframe tbody tr th {\n",
       "        vertical-align: top;\n",
       "    }\n",
       "\n",
       "    .dataframe thead th {\n",
       "        text-align: right;\n",
       "    }\n",
       "</style>\n",
       "<table border=\"1\" class=\"dataframe\">\n",
       "  <thead>\n",
       "    <tr style=\"text-align: right;\">\n",
       "      <th></th>\n",
       "      <th>Open</th>\n",
       "      <th>High</th>\n",
       "      <th>Low</th>\n",
       "      <th>Close</th>\n",
       "      <th>Adj Close</th>\n",
       "      <th>Volume</th>\n",
       "    </tr>\n",
       "    <tr>\n",
       "      <th>Date</th>\n",
       "      <th></th>\n",
       "      <th></th>\n",
       "      <th></th>\n",
       "      <th></th>\n",
       "      <th></th>\n",
       "      <th></th>\n",
       "    </tr>\n",
       "  </thead>\n",
       "  <tbody>\n",
       "    <tr>\n",
       "      <th>2015-01-02</th>\n",
       "      <td>6.969978</td>\n",
       "      <td>7.036998</td>\n",
       "      <td>6.791261</td>\n",
       "      <td>6.828494</td>\n",
       "      <td>4.723387</td>\n",
       "      <td>14567668</td>\n",
       "    </tr>\n",
       "    <tr>\n",
       "      <th>2015-01-05</th>\n",
       "      <td>6.724242</td>\n",
       "      <td>6.955085</td>\n",
       "      <td>6.687009</td>\n",
       "      <td>6.850834</td>\n",
       "      <td>4.738839</td>\n",
       "      <td>27743553</td>\n",
       "    </tr>\n",
       "    <tr>\n",
       "      <th>2015-01-06</th>\n",
       "      <td>6.865727</td>\n",
       "      <td>6.925299</td>\n",
       "      <td>6.768921</td>\n",
       "      <td>6.902959</td>\n",
       "      <td>4.774894</td>\n",
       "      <td>45486782</td>\n",
       "    </tr>\n",
       "    <tr>\n",
       "      <th>2015-01-07</th>\n",
       "      <td>7.036998</td>\n",
       "      <td>7.267841</td>\n",
       "      <td>7.022104</td>\n",
       "      <td>7.163589</td>\n",
       "      <td>4.955177</td>\n",
       "      <td>26784452</td>\n",
       "    </tr>\n",
       "    <tr>\n",
       "      <th>2015-01-08</th>\n",
       "      <td>7.223161</td>\n",
       "      <td>7.282734</td>\n",
       "      <td>7.051891</td>\n",
       "      <td>7.238055</td>\n",
       "      <td>5.006687</td>\n",
       "      <td>21225106</td>\n",
       "    </tr>\n",
       "    <tr>\n",
       "      <th>...</th>\n",
       "      <td>...</td>\n",
       "      <td>...</td>\n",
       "      <td>...</td>\n",
       "      <td>...</td>\n",
       "      <td>...</td>\n",
       "      <td>...</td>\n",
       "    </tr>\n",
       "    <tr>\n",
       "      <th>2021-03-30</th>\n",
       "      <td>10.270000</td>\n",
       "      <td>10.470000</td>\n",
       "      <td>10.270000</td>\n",
       "      <td>10.470000</td>\n",
       "      <td>10.470000</td>\n",
       "      <td>22484400</td>\n",
       "    </tr>\n",
       "    <tr>\n",
       "      <th>2021-03-31</th>\n",
       "      <td>10.390000</td>\n",
       "      <td>10.420000</td>\n",
       "      <td>10.170000</td>\n",
       "      <td>10.320000</td>\n",
       "      <td>10.320000</td>\n",
       "      <td>30421000</td>\n",
       "    </tr>\n",
       "    <tr>\n",
       "      <th>2021-04-01</th>\n",
       "      <td>10.340000</td>\n",
       "      <td>10.340000</td>\n",
       "      <td>10.070000</td>\n",
       "      <td>10.100000</td>\n",
       "      <td>10.100000</td>\n",
       "      <td>21625700</td>\n",
       "    </tr>\n",
       "    <tr>\n",
       "      <th>2021-04-05</th>\n",
       "      <td>10.180000</td>\n",
       "      <td>10.240000</td>\n",
       "      <td>10.100000</td>\n",
       "      <td>10.230000</td>\n",
       "      <td>10.230000</td>\n",
       "      <td>18608700</td>\n",
       "    </tr>\n",
       "    <tr>\n",
       "      <th>2021-04-06</th>\n",
       "      <td>10.210000</td>\n",
       "      <td>10.280000</td>\n",
       "      <td>10.110000</td>\n",
       "      <td>10.130000</td>\n",
       "      <td>10.130000</td>\n",
       "      <td>18463300</td>\n",
       "    </tr>\n",
       "  </tbody>\n",
       "</table>\n",
       "<p>1550 rows × 6 columns</p>\n",
       "</div>"
      ],
      "text/plain": [
       "                 Open       High        Low      Close  Adj Close    Volume\n",
       "Date                                                                       \n",
       "2015-01-02   6.969978   7.036998   6.791261   6.828494   4.723387  14567668\n",
       "2015-01-05   6.724242   6.955085   6.687009   6.850834   4.738839  27743553\n",
       "2015-01-06   6.865727   6.925299   6.768921   6.902959   4.774894  45486782\n",
       "2015-01-07   7.036998   7.267841   7.022104   7.163589   4.955177  26784452\n",
       "2015-01-08   7.223161   7.282734   7.051891   7.238055   5.006687  21225106\n",
       "...               ...        ...        ...        ...        ...       ...\n",
       "2021-03-30  10.270000  10.470000  10.270000  10.470000  10.470000  22484400\n",
       "2021-03-31  10.390000  10.420000  10.170000  10.320000  10.320000  30421000\n",
       "2021-04-01  10.340000  10.340000  10.070000  10.100000  10.100000  21625700\n",
       "2021-04-05  10.180000  10.240000  10.100000  10.230000  10.230000  18608700\n",
       "2021-04-06  10.210000  10.280000  10.110000  10.130000  10.130000  18463300\n",
       "\n",
       "[1550 rows x 6 columns]"
      ]
     },
     "metadata": {},
     "output_type": "display_data"
    }
   ],
   "source": [
    "df = str(input(\"Qual ativo analisar? Ex. digite ITSA4.SA  \"))\n",
    "date = str(input(\"Qual a data mais antiga? formato aaaa-mm-dd (ex: 2015-01-01)  \"))\n",
    "\n",
    "data = yf.download(df, start=date)\n",
    "display(data)"
   ]
  },
  {
   "cell_type": "code",
   "execution_count": 15,
   "metadata": {},
   "outputs": [
    {
     "data": {
      "text/plain": [
       "<AxesSubplot:title={'center':'Série Temporal Cotações'}, xlabel='Date'>"
      ]
     },
     "execution_count": 15,
     "metadata": {},
     "output_type": "execute_result"
    },
    {
     "data": {
      "image/png": "[encoded data removed]",
      "text/plain": [
       "<Figure size 432x288 with 1 Axes>"
      ]
     },
     "metadata": {
      "needs_background": "dark"
     },
     "output_type": "display_data"
    }
   ],
   "source": [
    "data[\"Close\"].plot(title= 'Série Temporal Cotações')"
   ]
  },
  {
   "cell_type": "code",
   "execution_count": 5,
   "metadata": {},
   "outputs": [
    {
     "data": {
      "text/html": [
       "<div>\n",
       "<style scoped>\n",
       "    .dataframe tbody tr th:only-of-type {\n",
       "        vertical-align: middle;\n",
       "    }\n",
       "\n",
       "    .dataframe tbody tr th {\n",
       "        vertical-align: top;\n",
       "    }\n",
       "\n",
       "    .dataframe thead th {\n",
       "        text-align: right;\n",
       "    }\n",
       "</style>\n",
       "<table border=\"1\" class=\"dataframe\">\n",
       "  <thead>\n",
       "    <tr style=\"text-align: right;\">\n",
       "      <th></th>\n",
       "      <th>Close</th>\n",
       "    </tr>\n",
       "    <tr>\n",
       "      <th>Date</th>\n",
       "      <th></th>\n",
       "    </tr>\n",
       "  </thead>\n",
       "  <tbody>\n",
       "    <tr>\n",
       "      <th>2015-01-05</th>\n",
       "      <td>0.003272</td>\n",
       "    </tr>\n",
       "    <tr>\n",
       "      <th>2015-01-06</th>\n",
       "      <td>0.007609</td>\n",
       "    </tr>\n",
       "    <tr>\n",
       "      <th>2015-01-07</th>\n",
       "      <td>0.037756</td>\n",
       "    </tr>\n",
       "    <tr>\n",
       "      <th>2015-01-08</th>\n",
       "      <td>0.010395</td>\n",
       "    </tr>\n",
       "    <tr>\n",
       "      <th>2015-01-09</th>\n",
       "      <td>-0.034979</td>\n",
       "    </tr>\n",
       "    <tr>\n",
       "      <th>...</th>\n",
       "      <td>...</td>\n",
       "    </tr>\n",
       "    <tr>\n",
       "      <th>2021-03-30</th>\n",
       "      <td>0.014535</td>\n",
       "    </tr>\n",
       "    <tr>\n",
       "      <th>2021-03-31</th>\n",
       "      <td>-0.014327</td>\n",
       "    </tr>\n",
       "    <tr>\n",
       "      <th>2021-04-01</th>\n",
       "      <td>-0.021318</td>\n",
       "    </tr>\n",
       "    <tr>\n",
       "      <th>2021-04-05</th>\n",
       "      <td>0.012871</td>\n",
       "    </tr>\n",
       "    <tr>\n",
       "      <th>2021-04-06</th>\n",
       "      <td>-0.009775</td>\n",
       "    </tr>\n",
       "  </tbody>\n",
       "</table>\n",
       "<p>1549 rows × 1 columns</p>\n",
       "</div>"
      ],
      "text/plain": [
       "               Close\n",
       "Date                \n",
       "2015-01-05  0.003272\n",
       "2015-01-06  0.007609\n",
       "2015-01-07  0.037756\n",
       "2015-01-08  0.010395\n",
       "2015-01-09 -0.034979\n",
       "...              ...\n",
       "2021-03-30  0.014535\n",
       "2021-03-31 -0.014327\n",
       "2021-04-01 -0.021318\n",
       "2021-04-05  0.012871\n",
       "2021-04-06 -0.009775\n",
       "\n",
       "[1549 rows x 1 columns]"
      ]
     },
     "execution_count": 5,
     "metadata": {},
     "output_type": "execute_result"
    }
   ],
   "source": [
    "#DataFrame com os Retornos\n",
    "x = calcula_retornos(data)\n",
    "x"
   ]
  },
  {
   "cell_type": "code",
   "execution_count": 17,
   "metadata": {},
   "outputs": [
    {
     "data": {
      "text/plain": [
       "<AxesSubplot:title={'center':'Série Temporal dos Retornos'}, xlabel='Date'>"
      ]
     },
     "execution_count": 17,
     "metadata": {},
     "output_type": "execute_result"
    },
    {
     "data": {
      "image/png": "[encoded data removed]",
      "text/plain": [
       "<Figure size 432x288 with 1 Axes>"
      ]
     },
     "metadata": {
      "needs_background": "dark"
     },
     "output_type": "display_data"
    }
   ],
   "source": [
    "x.plot(title = \"Série Temporal dos Retornos\")"
   ]
  },
  {
   "cell_type": "code",
   "execution_count": 18,
   "metadata": {},
   "outputs": [
    {
     "data": {
      "text/plain": [
       "array([[<AxesSubplot:title={'center':'Close'}>]], dtype=object)"
      ]
     },
     "execution_count": 18,
     "metadata": {},
     "output_type": "execute_result"
    },
    {
     "data": {
      "image/png": "[encoded data removed]",
      "text/plain": [
       "<Figure size 432x288 with 1 Axes>"
      ]
     },
     "metadata": {
      "needs_background": "dark"
     },
     "output_type": "display_data"
    }
   ],
   "source": [
    "#Histograma dos Retornos\n",
    "x.hist()"
   ]
  },
  {
   "cell_type": "code",
   "execution_count": 19,
   "metadata": {},
   "outputs": [
    {
     "data": {
      "text/html": [
       "<div>\n",
       "<style scoped>\n",
       "    .dataframe tbody tr th:only-of-type {\n",
       "        vertical-align: middle;\n",
       "    }\n",
       "\n",
       "    .dataframe tbody tr th {\n",
       "        vertical-align: top;\n",
       "    }\n",
       "\n",
       "    .dataframe thead th {\n",
       "        text-align: right;\n",
       "    }\n",
       "</style>\n",
       "<table border=\"1\" class=\"dataframe\">\n",
       "  <thead>\n",
       "    <tr style=\"text-align: right;\">\n",
       "      <th></th>\n",
       "      <th>Close</th>\n",
       "    </tr>\n",
       "  </thead>\n",
       "  <tbody>\n",
       "    <tr>\n",
       "      <th>count</th>\n",
       "      <td>1549.000000</td>\n",
       "    </tr>\n",
       "    <tr>\n",
       "      <th>mean</th>\n",
       "      <td>0.000465</td>\n",
       "    </tr>\n",
       "    <tr>\n",
       "      <th>std</th>\n",
       "      <td>0.020482</td>\n",
       "    </tr>\n",
       "    <tr>\n",
       "      <th>min</th>\n",
       "      <td>-0.108654</td>\n",
       "    </tr>\n",
       "    <tr>\n",
       "      <th>25%</th>\n",
       "      <td>-0.011321</td>\n",
       "    </tr>\n",
       "    <tr>\n",
       "      <th>50%</th>\n",
       "      <td>0.000000</td>\n",
       "    </tr>\n",
       "    <tr>\n",
       "      <th>75%</th>\n",
       "      <td>0.011949</td>\n",
       "    </tr>\n",
       "    <tr>\n",
       "      <th>max</th>\n",
       "      <td>0.102696</td>\n",
       "    </tr>\n",
       "  </tbody>\n",
       "</table>\n",
       "</div>"
      ],
      "text/plain": [
       "             Close\n",
       "count  1549.000000\n",
       "mean      0.000465\n",
       "std       0.020482\n",
       "min      -0.108654\n",
       "25%      -0.011321\n",
       "50%       0.000000\n",
       "75%       0.011949\n",
       "max       0.102696"
      ]
     },
     "execution_count": 19,
     "metadata": {},
     "output_type": "execute_result"
    }
   ],
   "source": [
    "x.describe()"
   ]
  },
  {
   "cell_type": "markdown",
   "metadata": {},
   "source": [
    "### Simula Preço de Ativos (preencher caixa de texto)"
   ]
  },
  {
   "cell_type": "code",
   "execution_count": 20,
   "metadata": {},
   "outputs": [
    {
     "name": "stdout",
     "output_type": "stream",
     "text": [
      "Qual o preço da ação? 10\n",
      "Qual o preço de exercício? 12\n",
      "Para quantos períodos de tempo? 100\n",
      "Quantas simulações? 1000\n",
      "DataFrame = 1, call = 2 ou put = 3? 1\n"
     ]
    },
    {
     "data": {
      "text/html": [
       "<div>\n",
       "<style scoped>\n",
       "    .dataframe tbody tr th:only-of-type {\n",
       "        vertical-align: middle;\n",
       "    }\n",
       "\n",
       "    .dataframe tbody tr th {\n",
       "        vertical-align: top;\n",
       "    }\n",
       "\n",
       "    .dataframe thead th {\n",
       "        text-align: right;\n",
       "    }\n",
       "</style>\n",
       "<table border=\"1\" class=\"dataframe\">\n",
       "  <thead>\n",
       "    <tr style=\"text-align: right;\">\n",
       "      <th></th>\n",
       "      <th>0</th>\n",
       "      <th>1</th>\n",
       "      <th>2</th>\n",
       "      <th>3</th>\n",
       "      <th>4</th>\n",
       "      <th>5</th>\n",
       "      <th>6</th>\n",
       "      <th>7</th>\n",
       "      <th>8</th>\n",
       "      <th>9</th>\n",
       "      <th>...</th>\n",
       "      <th>990</th>\n",
       "      <th>991</th>\n",
       "      <th>992</th>\n",
       "      <th>993</th>\n",
       "      <th>994</th>\n",
       "      <th>995</th>\n",
       "      <th>996</th>\n",
       "      <th>997</th>\n",
       "      <th>998</th>\n",
       "      <th>999</th>\n",
       "    </tr>\n",
       "  </thead>\n",
       "  <tbody>\n",
       "    <tr>\n",
       "      <th>0</th>\n",
       "      <td>10.255931</td>\n",
       "      <td>9.310854</td>\n",
       "      <td>10.308922</td>\n",
       "      <td>10.174448</td>\n",
       "      <td>9.915502</td>\n",
       "      <td>9.990454</td>\n",
       "      <td>10.483147</td>\n",
       "      <td>10.047097</td>\n",
       "      <td>10.009344</td>\n",
       "      <td>10.182826</td>\n",
       "      <td>...</td>\n",
       "      <td>10.032989</td>\n",
       "      <td>9.639113</td>\n",
       "      <td>9.925639</td>\n",
       "      <td>10.151757</td>\n",
       "      <td>10.178323</td>\n",
       "      <td>10.381803</td>\n",
       "      <td>9.982040</td>\n",
       "      <td>10.143835</td>\n",
       "      <td>9.380002</td>\n",
       "      <td>9.983015</td>\n",
       "    </tr>\n",
       "    <tr>\n",
       "      <th>1</th>\n",
       "      <td>10.613058</td>\n",
       "      <td>9.492285</td>\n",
       "      <td>10.227518</td>\n",
       "      <td>10.671415</td>\n",
       "      <td>9.729614</td>\n",
       "      <td>9.833121</td>\n",
       "      <td>10.291550</td>\n",
       "      <td>9.972973</td>\n",
       "      <td>9.858849</td>\n",
       "      <td>10.666368</td>\n",
       "      <td>...</td>\n",
       "      <td>9.824122</td>\n",
       "      <td>9.308494</td>\n",
       "      <td>10.679509</td>\n",
       "      <td>10.448002</td>\n",
       "      <td>10.162139</td>\n",
       "      <td>10.638747</td>\n",
       "      <td>10.004205</td>\n",
       "      <td>9.865229</td>\n",
       "      <td>9.808996</td>\n",
       "      <td>9.980387</td>\n",
       "    </tr>\n",
       "    <tr>\n",
       "      <th>2</th>\n",
       "      <td>10.631098</td>\n",
       "      <td>9.657411</td>\n",
       "      <td>9.721629</td>\n",
       "      <td>10.565113</td>\n",
       "      <td>9.874202</td>\n",
       "      <td>9.850572</td>\n",
       "      <td>9.990408</td>\n",
       "      <td>10.069976</td>\n",
       "      <td>9.489884</td>\n",
       "      <td>11.160364</td>\n",
       "      <td>...</td>\n",
       "      <td>9.710311</td>\n",
       "      <td>9.225443</td>\n",
       "      <td>11.403248</td>\n",
       "      <td>10.655768</td>\n",
       "      <td>10.447042</td>\n",
       "      <td>10.814145</td>\n",
       "      <td>9.804218</td>\n",
       "      <td>9.828361</td>\n",
       "      <td>9.743299</td>\n",
       "      <td>10.007968</td>\n",
       "    </tr>\n",
       "    <tr>\n",
       "      <th>3</th>\n",
       "      <td>11.173004</td>\n",
       "      <td>10.038058</td>\n",
       "      <td>9.885796</td>\n",
       "      <td>10.295024</td>\n",
       "      <td>10.367495</td>\n",
       "      <td>9.778835</td>\n",
       "      <td>9.982865</td>\n",
       "      <td>9.909059</td>\n",
       "      <td>9.441814</td>\n",
       "      <td>11.217314</td>\n",
       "      <td>...</td>\n",
       "      <td>9.475590</td>\n",
       "      <td>8.914467</td>\n",
       "      <td>11.054696</td>\n",
       "      <td>11.510324</td>\n",
       "      <td>10.818115</td>\n",
       "      <td>11.381070</td>\n",
       "      <td>9.351094</td>\n",
       "      <td>10.017661</td>\n",
       "      <td>10.284218</td>\n",
       "      <td>10.293427</td>\n",
       "    </tr>\n",
       "    <tr>\n",
       "      <th>4</th>\n",
       "      <td>11.205060</td>\n",
       "      <td>9.853596</td>\n",
       "      <td>10.065875</td>\n",
       "      <td>9.667470</td>\n",
       "      <td>10.299521</td>\n",
       "      <td>9.683800</td>\n",
       "      <td>9.880049</td>\n",
       "      <td>9.979231</td>\n",
       "      <td>9.261790</td>\n",
       "      <td>11.105318</td>\n",
       "      <td>...</td>\n",
       "      <td>9.544849</td>\n",
       "      <td>9.163111</td>\n",
       "      <td>10.701867</td>\n",
       "      <td>11.711742</td>\n",
       "      <td>11.176883</td>\n",
       "      <td>11.273506</td>\n",
       "      <td>9.362242</td>\n",
       "      <td>10.584019</td>\n",
       "      <td>10.369597</td>\n",
       "      <td>10.481793</td>\n",
       "    </tr>\n",
       "    <tr>\n",
       "      <th>...</th>\n",
       "      <td>...</td>\n",
       "      <td>...</td>\n",
       "      <td>...</td>\n",
       "      <td>...</td>\n",
       "      <td>...</td>\n",
       "      <td>...</td>\n",
       "      <td>...</td>\n",
       "      <td>...</td>\n",
       "      <td>...</td>\n",
       "      <td>...</td>\n",
       "      <td>...</td>\n",
       "      <td>...</td>\n",
       "      <td>...</td>\n",
       "      <td>...</td>\n",
       "      <td>...</td>\n",
       "      <td>...</td>\n",
       "      <td>...</td>\n",
       "      <td>...</td>\n",
       "      <td>...</td>\n",
       "      <td>...</td>\n",
       "      <td>...</td>\n",
       "    </tr>\n",
       "    <tr>\n",
       "      <th>96</th>\n",
       "      <td>8.132264</td>\n",
       "      <td>9.433592</td>\n",
       "      <td>6.362974</td>\n",
       "      <td>12.162339</td>\n",
       "      <td>10.315798</td>\n",
       "      <td>6.674244</td>\n",
       "      <td>13.346974</td>\n",
       "      <td>10.923438</td>\n",
       "      <td>12.524164</td>\n",
       "      <td>12.858553</td>\n",
       "      <td>...</td>\n",
       "      <td>4.486758</td>\n",
       "      <td>16.641392</td>\n",
       "      <td>9.842000</td>\n",
       "      <td>14.112066</td>\n",
       "      <td>14.960714</td>\n",
       "      <td>13.480194</td>\n",
       "      <td>6.019122</td>\n",
       "      <td>8.509293</td>\n",
       "      <td>10.517660</td>\n",
       "      <td>9.431663</td>\n",
       "    </tr>\n",
       "    <tr>\n",
       "      <th>97</th>\n",
       "      <td>8.351557</td>\n",
       "      <td>9.392571</td>\n",
       "      <td>6.246491</td>\n",
       "      <td>12.381680</td>\n",
       "      <td>10.190443</td>\n",
       "      <td>6.534450</td>\n",
       "      <td>13.073527</td>\n",
       "      <td>10.899666</td>\n",
       "      <td>12.520325</td>\n",
       "      <td>12.390372</td>\n",
       "      <td>...</td>\n",
       "      <td>4.382799</td>\n",
       "      <td>16.876985</td>\n",
       "      <td>9.710234</td>\n",
       "      <td>14.649924</td>\n",
       "      <td>15.728897</td>\n",
       "      <td>14.483852</td>\n",
       "      <td>5.993517</td>\n",
       "      <td>8.442494</td>\n",
       "      <td>10.653011</td>\n",
       "      <td>9.582983</td>\n",
       "    </tr>\n",
       "    <tr>\n",
       "      <th>98</th>\n",
       "      <td>8.204975</td>\n",
       "      <td>9.680374</td>\n",
       "      <td>6.789300</td>\n",
       "      <td>12.609738</td>\n",
       "      <td>10.363315</td>\n",
       "      <td>6.438338</td>\n",
       "      <td>14.213416</td>\n",
       "      <td>10.558157</td>\n",
       "      <td>12.888699</td>\n",
       "      <td>12.850176</td>\n",
       "      <td>...</td>\n",
       "      <td>4.294465</td>\n",
       "      <td>15.917484</td>\n",
       "      <td>9.512015</td>\n",
       "      <td>15.634789</td>\n",
       "      <td>16.208237</td>\n",
       "      <td>14.395393</td>\n",
       "      <td>6.026439</td>\n",
       "      <td>8.587334</td>\n",
       "      <td>10.776615</td>\n",
       "      <td>9.737235</td>\n",
       "    </tr>\n",
       "    <tr>\n",
       "      <th>99</th>\n",
       "      <td>8.443991</td>\n",
       "      <td>9.457391</td>\n",
       "      <td>6.616162</td>\n",
       "      <td>12.191615</td>\n",
       "      <td>10.419679</td>\n",
       "      <td>6.404750</td>\n",
       "      <td>14.079124</td>\n",
       "      <td>10.729943</td>\n",
       "      <td>13.137134</td>\n",
       "      <td>13.508487</td>\n",
       "      <td>...</td>\n",
       "      <td>4.024471</td>\n",
       "      <td>15.500620</td>\n",
       "      <td>9.723419</td>\n",
       "      <td>15.136161</td>\n",
       "      <td>16.117576</td>\n",
       "      <td>14.494909</td>\n",
       "      <td>5.975602</td>\n",
       "      <td>8.310534</td>\n",
       "      <td>10.094670</td>\n",
       "      <td>9.456557</td>\n",
       "    </tr>\n",
       "    <tr>\n",
       "      <th>100</th>\n",
       "      <td>8.623344</td>\n",
       "      <td>9.779134</td>\n",
       "      <td>6.456870</td>\n",
       "      <td>12.939433</td>\n",
       "      <td>10.095202</td>\n",
       "      <td>6.496840</td>\n",
       "      <td>14.553870</td>\n",
       "      <td>11.236520</td>\n",
       "      <td>14.012156</td>\n",
       "      <td>13.226580</td>\n",
       "      <td>...</td>\n",
       "      <td>4.028387</td>\n",
       "      <td>15.474957</td>\n",
       "      <td>9.446970</td>\n",
       "      <td>15.484186</td>\n",
       "      <td>15.873994</td>\n",
       "      <td>14.296155</td>\n",
       "      <td>5.842170</td>\n",
       "      <td>8.173180</td>\n",
       "      <td>10.175690</td>\n",
       "      <td>9.596106</td>\n",
       "    </tr>\n",
       "  </tbody>\n",
       "</table>\n",
       "<p>101 rows × 1000 columns</p>\n",
       "</div>"
      ],
      "text/plain": [
       "           0          1          2          3          4         5    \\\n",
       "0    10.255931   9.310854  10.308922  10.174448   9.915502  9.990454   \n",
       "1    10.613058   9.492285  10.227518  10.671415   9.729614  9.833121   \n",
       "2    10.631098   9.657411   9.721629  10.565113   9.874202  9.850572   \n",
       "3    11.173004  10.038058   9.885796  10.295024  10.367495  9.778835   \n",
       "4    11.205060   9.853596  10.065875   9.667470  10.299521  9.683800   \n",
       "..         ...        ...        ...        ...        ...       ...   \n",
       "96    8.132264   9.433592   6.362974  12.162339  10.315798  6.674244   \n",
       "97    8.351557   9.392571   6.246491  12.381680  10.190443  6.534450   \n",
       "98    8.204975   9.680374   6.789300  12.609738  10.363315  6.438338   \n",
       "99    8.443991   9.457391   6.616162  12.191615  10.419679  6.404750   \n",
       "100   8.623344   9.779134   6.456870  12.939433  10.095202  6.496840   \n",
       "\n",
       "           6          7          8          9    ...        990        991  \\\n",
       "0    10.483147  10.047097  10.009344  10.182826  ...  10.032989   9.639113   \n",
       "1    10.291550   9.972973   9.858849  10.666368  ...   9.824122   9.308494   \n",
       "2     9.990408  10.069976   9.489884  11.160364  ...   9.710311   9.225443   \n",
       "3     9.982865   9.909059   9.441814  11.217314  ...   9.475590   8.914467   \n",
       "4     9.880049   9.979231   9.261790  11.105318  ...   9.544849   9.163111   \n",
       "..         ...        ...        ...        ...  ...        ...        ...   \n",
       "96   13.346974  10.923438  12.524164  12.858553  ...   4.486758  16.641392   \n",
       "97   13.073527  10.899666  12.520325  12.390372  ...   4.382799  16.876985   \n",
       "98   14.213416  10.558157  12.888699  12.850176  ...   4.294465  15.917484   \n",
       "99   14.079124  10.729943  13.137134  13.508487  ...   4.024471  15.500620   \n",
       "100  14.553870  11.236520  14.012156  13.226580  ...   4.028387  15.474957   \n",
       "\n",
       "           992        993        994        995        996        997  \\\n",
       "0     9.925639  10.151757  10.178323  10.381803   9.982040  10.143835   \n",
       "1    10.679509  10.448002  10.162139  10.638747  10.004205   9.865229   \n",
       "2    11.403248  10.655768  10.447042  10.814145   9.804218   9.828361   \n",
       "3    11.054696  11.510324  10.818115  11.381070   9.351094  10.017661   \n",
       "4    10.701867  11.711742  11.176883  11.273506   9.362242  10.584019   \n",
       "..         ...        ...        ...        ...        ...        ...   \n",
       "96    9.842000  14.112066  14.960714  13.480194   6.019122   8.509293   \n",
       "97    9.710234  14.649924  15.728897  14.483852   5.993517   8.442494   \n",
       "98    9.512015  15.634789  16.208237  14.395393   6.026439   8.587334   \n",
       "99    9.723419  15.136161  16.117576  14.494909   5.975602   8.310534   \n",
       "100   9.446970  15.484186  15.873994  14.296155   5.842170   8.173180   \n",
       "\n",
       "           998        999  \n",
       "0     9.380002   9.983015  \n",
       "1     9.808996   9.980387  \n",
       "2     9.743299  10.007968  \n",
       "3    10.284218  10.293427  \n",
       "4    10.369597  10.481793  \n",
       "..         ...        ...  \n",
       "96   10.517660   9.431663  \n",
       "97   10.653011   9.582983  \n",
       "98   10.776615   9.737235  \n",
       "99   10.094670   9.456557  \n",
       "100  10.175690   9.596106  \n",
       "\n",
       "[101 rows x 1000 columns]"
      ]
     },
     "metadata": {},
     "output_type": "display_data"
    },
    {
     "data": {
      "image/png": "[encoded data removed]",
      "text/plain": [
       "<Figure size 432x288 with 1 Axes>"
      ]
     },
     "metadata": {
      "needs_background": "dark"
     },
     "output_type": "display_data"
    }
   ],
   "source": [
    "S = mc_normal(x)\n",
    "display(S)\n",
    "plt.plot(S)\n",
    "plt.grid(True)\n",
    "plt.xlabel('Steps')\n",
    "plt.ylabel('Valor $')\n",
    "plt.show()"
   ]
  },
  {
   "cell_type": "markdown",
   "metadata": {},
   "source": [
    "### Precifica Call Europeia por MC (preencher caixa de texto)"
   ]
  },
  {
   "cell_type": "code",
   "execution_count": 32,
   "metadata": {},
   "outputs": [
    {
     "name": "stdout",
     "output_type": "stream",
     "text": [
      "Qual o preço da ação? 10\n",
      "Qual o preço de exercício? 12\n",
      "Para quantos períodos de tempo? 100\n",
      "Quantas simulações? 100000\n",
      "DataFrame = 1, call = 2 ou put = 3? 2\n"
     ]
    },
    {
     "data": {
      "text/plain": [
       "0.25293466116907753"
      ]
     },
     "execution_count": 32,
     "metadata": {},
     "output_type": "execute_result"
    }
   ],
   "source": [
    "mc_normal(x)"
   ]
  },
  {
   "cell_type": "markdown",
   "metadata": {},
   "source": [
    "### Precifica Put Europeia por MC (preencher caixa de texto)"
   ]
  },
  {
   "cell_type": "code",
   "execution_count": 23,
   "metadata": {},
   "outputs": [
    {
     "name": "stdout",
     "output_type": "stream",
     "text": [
      "Qual o preço da ação? 10\n",
      "Qual o preço de exercício? 10\n",
      "Para quantos períodos de tempo? 100\n",
      "Quantas simulações? 100000\n",
      "DataFrame = 1, call = 2 ou put = 3? 3\n"
     ]
    },
    {
     "data": {
      "text/plain": [
       "0.7609599095914445"
      ]
     },
     "execution_count": 23,
     "metadata": {},
     "output_type": "execute_result"
    }
   ],
   "source": [
    "mc_normal(x)"
   ]
  },
  {
   "cell_type": "markdown",
   "metadata": {},
   "source": [
    "### Precifica Call Europeia por BS (preencher caixa de texto)"
   ]
  },
  {
   "cell_type": "code",
   "execution_count": 33,
   "metadata": {},
   "outputs": [
    {
     "name": "stdout",
     "output_type": "stream",
     "text": [
      "Qual o preço da ação? 10\n",
      "Qual o preço de exercício? 12\n",
      "Quantos períodos até a data de expiração? 100\n"
     ]
    },
    {
     "data": {
      "text/plain": [
       "0.27"
      ]
     },
     "execution_count": 33,
     "metadata": {},
     "output_type": "execute_result"
    }
   ],
   "source": [
    "o = euro_vanilla_call(x)\n",
    "o"
   ]
  },
  {
   "cell_type": "markdown",
   "metadata": {},
   "source": [
    "### Precifica Put Europeia por BS (preencher caixa de texto)"
   ]
  },
  {
   "cell_type": "code",
   "execution_count": 11,
   "metadata": {},
   "outputs": [
    {
     "name": "stdout",
     "output_type": "stream",
     "text": [
      "Qual o preço da ação? 10\n",
      "Qual o preço de exercício? 10\n",
      "Quantos períodos até a data de expiração? 100\n"
     ]
    },
    {
     "data": {
      "text/plain": [
       "0.77"
      ]
     },
     "execution_count": 11,
     "metadata": {},
     "output_type": "execute_result"
    }
   ],
   "source": [
    "o = euro_vanilla_put(x)\n",
    "o"
   ]
  },
  {
   "cell_type": "markdown",
   "metadata": {},
   "source": [
    "### Precifica Call Exótica por MC - Preço final igual a média dos últimos 5 dias (preencher caixa de texto)"
   ]
  },
  {
   "cell_type": "code",
   "execution_count": 26,
   "metadata": {
    "scrolled": true
   },
   "outputs": [
    {
     "name": "stdout",
     "output_type": "stream",
     "text": [
      "Qual o preço da ação? 10\n",
      "Qual o preço de exercício? 12\n",
      "Para quantos períodos de tempo? 100\n",
      "Quantas simulações? 100000\n"
     ]
    },
    {
     "data": {
      "text/plain": [
       "0.23721694528058687"
      ]
     },
     "execution_count": 26,
     "metadata": {},
     "output_type": "execute_result"
    }
   ],
   "source": [
    "exotica(x, retornar = 2)"
   ]
  },
  {
   "cell_type": "markdown",
   "metadata": {},
   "source": [
    "### Precifica Put Exótica por MC - Preço final igual a média dos últimos 5 dias (preencher caixa de texto)"
   ]
  },
  {
   "cell_type": "code",
   "execution_count": 27,
   "metadata": {
    "scrolled": false
   },
   "outputs": [
    {
     "name": "stdout",
     "output_type": "stream",
     "text": [
      "Qual o preço da ação? 10\n",
      "Qual o preço de exercício? 10\n",
      "Para quantos períodos de tempo? 100\n",
      "Quantas simulações? 1000000\n"
     ]
    },
    {
     "data": {
      "text/plain": [
       "0.7515756405517806"
      ]
     },
     "execution_count": 27,
     "metadata": {},
     "output_type": "execute_result"
    }
   ],
   "source": [
    "exotica(x, retornar = 3)"
   ]
  },
  {
   "cell_type": "markdown",
   "metadata": {},
   "source": [
    "### Precifica Higher Binária por MC (preencher caixa de texto)\n"
   ]
  },
  {
   "cell_type": "code",
   "execution_count": 28,
   "metadata": {
    "scrolled": true
   },
   "outputs": [
    {
     "name": "stdout",
     "output_type": "stream",
     "text": [
      "Qual o preço da ação? 10\n",
      "Qual o preço de exercício? 12\n",
      "Qual o valor da recompensa? 1000\n",
      "Para quantos períodos de tempo? 100\n",
      "Quantas simulações? 100000\n"
     ]
    },
    {
     "data": {
      "text/plain": [
       "170.7684573093479"
      ]
     },
     "execution_count": 28,
     "metadata": {},
     "output_type": "execute_result"
    }
   ],
   "source": [
    "binaria(x, retornar = 1)"
   ]
  },
  {
   "cell_type": "markdown",
   "metadata": {},
   "source": [
    "### Precifica Lower Binária por MC (preencher caixa de texto)"
   ]
  },
  {
   "cell_type": "code",
   "execution_count": 30,
   "metadata": {},
   "outputs": [
    {
     "name": "stdout",
     "output_type": "stream",
     "text": [
      "Qual o preço da ação? 10\n",
      "Qual o preço de exercício? 12\n",
      "Qual o valor da recompensa? 1000\n",
      "Para quantos períodos de tempo? 100\n",
      "Quantas simulações? 100000\n"
     ]
    },
    {
     "data": {
      "text/plain": [
       "817.1451297977935"
      ]
     },
     "execution_count": 30,
     "metadata": {},
     "output_type": "execute_result"
    }
   ],
   "source": [
    "binaria(x, retornar = 2)"
   ]
  }
 ],
 "metadata": {
  "kernelspec": {
   "display_name": "Python 3",
   "language": "python",
   "name": "python3"
  },
  "language_info": {
   "codemirror_mode": {
    "name": "ipython",
    "version": 3
   },
   "file_extension": ".py",
   "mimetype": "text/x-python",
   "name": "python",
   "nbconvert_exporter": "python",
   "pygments_lexer": "ipython3",
   "version": "3.8.5"
  }
 },
 "nbformat": 4,
 "nbformat_minor": 4
}
